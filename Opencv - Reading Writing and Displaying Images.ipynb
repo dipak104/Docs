{
 "cells": [
  {
   "cell_type": "code",
   "execution_count": 3,
   "metadata": {},
   "outputs": [],
   "source": [
    "import cv2"
   ]
  },
  {
   "cell_type": "code",
   "execution_count": 4,
   "metadata": {},
   "outputs": [
    {
     "name": "stdout",
     "output_type": "stream",
     "text": [
      "4.1.2\n"
     ]
    }
   ],
   "source": [
    "print(cv2.__version__)"
   ]
  },
  {
   "cell_type": "code",
   "execution_count": 5,
   "metadata": {},
   "outputs": [],
   "source": [
    "import numpy as np"
   ]
  },
  {
   "cell_type": "code",
   "execution_count": 6,
   "metadata": {},
   "outputs": [
    {
     "name": "stdout",
     "output_type": "stream",
     "text": [
      " Volume in drive F has no label.\n",
      " Volume Serial Number is 40D5-FD63\n",
      "\n",
      " Directory of F:\\MLP\\Datasets\\Black Friday\n",
      "\n",
      "01/13/2020  12:31 PM    <DIR>          .\n",
      "01/13/2020  12:31 PM    <DIR>          ..\n",
      "01/13/2020  12:07 PM    <DIR>          .ipynb_checkpoints\n",
      "01/13/2020  12:05 PM           206,625 Black Friday -- Customer Purchase Behaviour.ipynb\n",
      "09/01/2019  04:24 AM            34,315 cat.10.jpg\n",
      "01/13/2020  11:06 AM        11,458,072 modified_test.csv\n",
      "01/13/2020  11:05 AM        30,669,574 modified_train.csv\n",
      "01/13/2020  12:31 PM               938 Opencv - Reading Writing and Displaying Images.ipynb\n",
      "01/10/2020  10:37 AM         5,135,069 sample_submission_LMg97w5.csv\n",
      "01/13/2020  11:08 AM         5,597,453 submission_black_friday.csv\n",
      "11/20/2015  12:45 AM         9,598,228 test.csv\n",
      "11/20/2015  12:47 AM        25,525,678 train.csv\n",
      "               9 File(s)     88,225,952 bytes\n",
      "               3 Dir(s)  36,293,570,560 bytes free\n"
     ]
    }
   ],
   "source": [
    "ls"
   ]
  },
  {
   "cell_type": "code",
   "execution_count": 7,
   "metadata": {},
   "outputs": [],
   "source": [
    "input = cv2.imread('cat.10.jpg')"
   ]
  },
  {
   "cell_type": "code",
   "execution_count": 9,
   "metadata": {},
   "outputs": [],
   "source": [
    "cv2.imshow('Hello World',input)\n",
    "\n",
    "cv2.waitKey()\n",
    "cv2.destroyAllWindows()"
   ]
  },
  {
   "cell_type": "code",
   "execution_count": 11,
   "metadata": {},
   "outputs": [
    {
     "name": "stdout",
     "output_type": "stream",
     "text": [
      "(499, 489, 3)\n"
     ]
    }
   ],
   "source": [
    "print(input.shape)"
   ]
  },
  {
   "cell_type": "code",
   "execution_count": 12,
   "metadata": {},
   "outputs": [
    {
     "data": {
      "text/plain": [
       "True"
      ]
     },
     "execution_count": 12,
     "metadata": {},
     "output_type": "execute_result"
    }
   ],
   "source": [
    "cv2.imwrite('output.jpg', input)"
   ]
  },
  {
   "cell_type": "code",
   "execution_count": 14,
   "metadata": {},
   "outputs": [],
   "source": [
    "cv2.imshow('Hello World',input)\n",
    "\n",
    "cv2.waitKey()\n",
    "\n",
    "gray_image = cv2.cvtColor(input, cv2.COLOR_BGR2GRAY)\n",
    "\n",
    "cv2.imshow('Grayscale', gray_image)\n",
    "cv2.waitKey()\n",
    "cv2.destroyAllWindows()"
   ]
  },
  {
   "cell_type": "code",
   "execution_count": 15,
   "metadata": {},
   "outputs": [],
   "source": [
    "img = cv2.imread('cat.10.jpg',0)\n",
    "cv2.imshow('GraScale', img)\n",
    "cv2.waitKey()\n",
    "cv2.destroyAllWindows()"
   ]
  },
  {
   "cell_type": "code",
   "execution_count": 20,
   "metadata": {},
   "outputs": [
    {
     "name": "stdout",
     "output_type": "stream",
     "text": [
      "64 58 47\n",
      "(499, 489, 3)\n"
     ]
    }
   ],
   "source": [
    "image = cv2.imread('cat.10.jpg')\n",
    "\n",
    "B, G, R = image[10, 10]\n",
    "print(B, G, R)\n",
    "\n",
    "print(image.shape)"
   ]
  },
  {
   "cell_type": "code",
   "execution_count": 21,
   "metadata": {},
   "outputs": [
    {
     "data": {
      "text/plain": [
       "(499, 489)"
      ]
     },
     "execution_count": 21,
     "metadata": {},
     "output_type": "execute_result"
    }
   ],
   "source": [
    "img.shape"
   ]
  },
  {
   "cell_type": "code",
   "execution_count": 22,
   "metadata": {},
   "outputs": [
    {
     "name": "stdout",
     "output_type": "stream",
     "text": [
      "55\n"
     ]
    }
   ],
   "source": [
    "print(img[10, 10])"
   ]
  },
  {
   "cell_type": "markdown",
   "metadata": {},
   "source": [
    "### Another Useful color space is HSV"
   ]
  },
  {
   "cell_type": "code",
   "execution_count": 24,
   "metadata": {},
   "outputs": [],
   "source": [
    "image = cv2.imread('rome.jpg')\n",
    "hsv_image = cv2.cvtColor(image, cv2.COLOR_BGR2HSV)\n",
    "cv2.imshow('HSV Image', hsv_image)\n",
    "cv2.imshow('Hue Channel', hsv_image[:, :, 0])\n",
    "cv2.imshow('Saturation Channel',hsv_image[:, :, 1])\n",
    "cv2.imshow('Value CHannel', hsv_image[:, :, 2])\n",
    "\n",
    "cv2.waitKey()\n",
    "cv2.destroyAllWindows()"
   ]
  },
  {
   "cell_type": "markdown",
   "metadata": {},
   "source": [
    "### Explore Individual Channels in an RGB image"
   ]
  },
  {
   "cell_type": "code",
   "execution_count": 26,
   "metadata": {},
   "outputs": [
    {
     "name": "stdout",
     "output_type": "stream",
     "text": [
      "(183, 275)\n"
     ]
    }
   ],
   "source": [
    "image = cv2.imread('rome.jpg')\n",
    "\n",
    "B, G, R = cv2.split(image)\n",
    "\n",
    "print(B.shape)\n",
    "cv2.imshow('Red', R)\n",
    "cv2.imshow('Green', G)\n",
    "cv2.imshow('Blue', B)\n",
    "cv2.waitKey()\n",
    "cv2.destroyAllWindows()\n",
    "\n",
    "merged = cv2.merge([B, G, R]) \n",
    "cv2.imshow('Merged', merged)\n",
    "\n",
    "merged = cv2.merge([B+100, G, R+100])\n",
    "cv2.imshow('Merge with more blue', merged)\n",
    "\n",
    "cv2.waitKey()\n",
    "cv2.destroyAllWindows()"
   ]
  },
  {
   "cell_type": "code",
   "execution_count": 28,
   "metadata": {},
   "outputs": [
    {
     "data": {
      "text/plain": [
       "(183, 275)"
      ]
     },
     "execution_count": 28,
     "metadata": {},
     "output_type": "execute_result"
    }
   ],
   "source": [
    "image.shape[:2]"
   ]
  },
  {
   "cell_type": "code",
   "execution_count": 30,
   "metadata": {},
   "outputs": [],
   "source": [
    "B, G, R = cv2.split(image)\n",
    "\n",
    "zeros = np.zeros(image.shape[:2], dtype='uint8')\n",
    "\n",
    "cv2.imshow('Red', cv2.merge([zeros, zeros, R]))\n",
    "cv2.imshow('Green', cv2.merge([zeros, G, zeros]))\n",
    "cv2.imshow('Blue', cv2.merge([B, zeros, zeros]))\n",
    "\n",
    "cv2.waitKey()\n",
    "cv2.destroyAllWindows()"
   ]
  },
  {
   "cell_type": "markdown",
   "metadata": {},
   "source": [
    "### Histograms in CV2"
   ]
  },
  {
   "cell_type": "code",
   "execution_count": 33,
   "metadata": {},
   "outputs": [
    {
     "data": {
      "image/png": "[encoded data removed]",
      "text/plain": [
       "<Figure size 432x288 with 1 Axes>"
      ]
     },
     "metadata": {
      "needs_background": "light"
     },
     "output_type": "display_data"
    },
    {
     "data": {
      "image/png": "[encoded data removed]",
      "text/plain": [
       "<Figure size 432x288 with 1 Axes>"
      ]
     },
     "metadata": {
      "needs_background": "light"
     },
     "output_type": "display_data"
    }
   ],
   "source": [
    "import matplotlib.pyplot as plt\n",
    "\n",
    "image = cv2.imread('cat.10.jpg')\n",
    "\n",
    "histogram = cv2.calcHist([image], [0], None, [256], [0,256])\n",
    "\n",
    "plt.hist(image.ravel(), 256, [0, 256])\n",
    "plt.show()\n",
    "\n",
    "color = ('b', 'g', 'r')\n",
    "\n",
    "for i, col in enumerate(color):\n",
    "    histogram2 = cv2.calcHist([image], [i], None, [256], [0,256])\n",
    "    plt.plot(histogram2, color = col)\n",
    "    plt.xlim([0, 256])\n",
    "    \n",
    "plt.show()"
   ]
  },
  {
   "cell_type": "markdown",
   "metadata": {},
   "source": [
    "### Drawing images and shapes using OpenCV"
   ]
  },
  {
   "cell_type": "code",
   "execution_count": 34,
   "metadata": {},
   "outputs": [],
   "source": [
    "image = np.zeros((512,512,3), np.uint8)\n",
    "\n",
    "image_bw = np.zeros((512, 512), np.uint8)\n",
    "\n",
    "cv2.imshow('Black Rectagle (color)', image)\n",
    "cv2.imshow('Black Rectangle (B&W)', image_bw)\n",
    "\n",
    "cv2.waitKey()\n",
    "cv2.destroyAllWindows()"
   ]
  },
  {
   "cell_type": "markdown",
   "metadata": {},
   "source": [
    "### Draw a line over our black square"
   ]
  },
  {
   "cell_type": "code",
   "execution_count": 35,
   "metadata": {},
   "outputs": [],
   "source": [
    "image = np.zeros((512, 512, 3), np.uint8)\n",
    "\n",
    "cv2.line(image, (0, 0), (511, 511), (255, 127, 0), 5)\n",
    "cv2.imshow(\"Blue Line\", image)\n",
    "cv2.waitKey(0)\n",
    "cv2.destroyAllWindows()"
   ]
  },
  {
   "cell_type": "code",
   "execution_count": 36,
   "metadata": {},
   "outputs": [],
   "source": [
    "image = np.zeros((512, 512, 3), np.uint8)\n",
    "\n",
    "cv2.rectangle(image, (100, 100), (300, 250), (127, 50, 127), 5)\n",
    "cv2.imshow('Rectangle', image)\n",
    "cv2.waitKey()\n",
    "cv2.destroyAllWindows()"
   ]
  },
  {
   "cell_type": "code",
   "execution_count": 41,
   "metadata": {},
   "outputs": [],
   "source": [
    "image = np.zeros((512, 512, 3), np.uint8)\n",
    "\n",
    "cv2.circle(image, (350, 350), 100, (15, 75, 50), -1)\n",
    "cv2.imshow('Circle', image)\n",
    "cv2.waitKey()\n",
    "cv2.destroyAllWindows()"
   ]
  },
  {
   "cell_type": "code",
   "execution_count": 44,
   "metadata": {},
   "outputs": [],
   "source": [
    "image = np.zeros((512, 512, 3), np.uint8)\n",
    "\n",
    "pts = np.array([[10, 50], [400, 50], [90, 200], [50, 500]], np.int32)\n",
    "\n",
    "pts = pts.reshape((-1, 1, 2))\n",
    "\n",
    "cv2.polylines(image, [pts], True, (0, 0, 255), 3)\n",
    "cv2.imshow('Polygon', image)\n",
    "cv2.waitKey()\n",
    "cv2.destroyAllWindows()"
   ]
  },
  {
   "cell_type": "markdown",
   "metadata": {},
   "source": [
    "### Add Text wit cv2.putText"
   ]
  },
  {
   "cell_type": "code",
   "execution_count": 48,
   "metadata": {},
   "outputs": [],
   "source": [
    "image = np.zeros((512, 512, 3), np.uint8)\n",
    "cv2.putText(image, 'Hello World!', (75, 200), cv2.FONT_HERSHEY_COMPLEX, 2, (100, 170, 0), 3)\n",
    "cv2.imshow('Hello World', image)\n",
    "cv2.waitKey()\n",
    "cv2.destroyAllWindows()"
   ]
  },
  {
   "cell_type": "code",
   "execution_count": null,
   "metadata": {},
   "outputs": [],
   "source": []
  }
 ],
 "metadata": {
  "kernelspec": {
   "display_name": "Python 3",
   "language": "python",
   "name": "python3"
  },
  "language_info": {
   "codemirror_mode": {
    "name": "ipython",
    "version": 3
   },
   "file_extension": ".py",
   "mimetype": "text/x-python",
   "name": "python",
   "nbconvert_exporter": "python",
   "pygments_lexer": "ipython3",
   "version": "3.7.4"
  }
 },
 "nbformat": 4,
 "nbformat_minor": 2
}
